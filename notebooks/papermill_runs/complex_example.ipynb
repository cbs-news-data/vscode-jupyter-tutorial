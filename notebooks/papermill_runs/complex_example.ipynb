{
 "cells": [
  {
   "cell_type": "markdown",
   "id": "037934c4",
   "metadata": {
    "papermill": {
     "duration": 0.001243,
     "end_time": "2024-07-23T22:41:19.618586",
     "exception": false,
     "start_time": "2024-07-23T22:41:19.617343",
     "status": "completed"
    },
    "tags": []
   },
   "source": [
    "# Complex papermill example"
   ]
  },
  {
   "cell_type": "markdown",
   "id": "8bc6758b",
   "metadata": {
    "papermill": {
     "duration": 0.000524,
     "end_time": "2024-07-23T22:41:19.619864",
     "exception": false,
     "start_time": "2024-07-23T22:41:19.619340",
     "status": "completed"
    },
    "tags": [],
    "vscode": {
     "languageId": "plaintext"
    }
   },
   "source": [
    "This notebook will demonstrate how to pass more complex arguments to a notebook using the `papermill` library and parameters configured in a yaml file. "
   ]
  },
  {
   "cell_type": "code",
   "execution_count": 1,
   "id": "f4d550b2",
   "metadata": {
    "execution": {
     "iopub.execute_input": "2024-07-23T22:41:19.621585Z",
     "iopub.status.busy": "2024-07-23T22:41:19.621458Z",
     "iopub.status.idle": "2024-07-23T22:41:19.623815Z",
     "shell.execute_reply": "2024-07-23T22:41:19.623585Z"
    },
    "papermill": {
     "duration": 0.004154,
     "end_time": "2024-07-23T22:41:19.624568",
     "exception": false,
     "start_time": "2024-07-23T22:41:19.620414",
     "status": "completed"
    },
    "tags": [
     "parameters"
    ]
   },
   "outputs": [],
   "source": [
    "# Parameters\n",
    "AGGREGATIONS = [\"min\", \"max\"]"
   ]
  },
  {
   "cell_type": "code",
   "execution_count": 2,
   "id": "5da5433b",
   "metadata": {
    "execution": {
     "iopub.execute_input": "2024-07-23T22:41:19.626357Z",
     "iopub.status.busy": "2024-07-23T22:41:19.626260Z",
     "iopub.status.idle": "2024-07-23T22:41:19.627675Z",
     "shell.execute_reply": "2024-07-23T22:41:19.627494Z"
    },
    "papermill": {
     "duration": 0.003084,
     "end_time": "2024-07-23T22:41:19.628370",
     "exception": false,
     "start_time": "2024-07-23T22:41:19.625286",
     "status": "completed"
    },
    "tags": [
     "injected-parameters"
    ]
   },
   "outputs": [],
   "source": [
    "# Parameters\n",
    "AGGREGATIONS = [\"mean\", \"median\", \"sum\", \"count\", \"min\", \"max\", \"std\"]\n"
   ]
  },
  {
   "cell_type": "code",
   "execution_count": 3,
   "id": "c048e417",
   "metadata": {
    "execution": {
     "iopub.execute_input": "2024-07-23T22:41:19.630113Z",
     "iopub.status.busy": "2024-07-23T22:41:19.630039Z",
     "iopub.status.idle": "2024-07-23T22:41:19.766168Z",
     "shell.execute_reply": "2024-07-23T22:41:19.765897Z"
    },
    "papermill": {
     "duration": 0.1378,
     "end_time": "2024-07-23T22:41:19.766931",
     "exception": false,
     "start_time": "2024-07-23T22:41:19.629131",
     "status": "completed"
    },
    "tags": []
   },
   "outputs": [],
   "source": [
    "import random\n",
    "import pandas as pd"
   ]
  },
  {
   "cell_type": "code",
   "execution_count": 4,
   "id": "3922dcc1",
   "metadata": {
    "execution": {
     "iopub.execute_input": "2024-07-23T22:41:19.768738Z",
     "iopub.status.busy": "2024-07-23T22:41:19.768634Z",
     "iopub.status.idle": "2024-07-23T22:41:19.773745Z",
     "shell.execute_reply": "2024-07-23T22:41:19.773538Z"
    },
    "papermill": {
     "duration": 0.006767,
     "end_time": "2024-07-23T22:41:19.774445",
     "exception": false,
     "start_time": "2024-07-23T22:41:19.767678",
     "status": "completed"
    },
    "tags": []
   },
   "outputs": [
    {
     "data": {
      "text/html": [
       "<div>\n",
       "<style scoped>\n",
       "    .dataframe tbody tr th:only-of-type {\n",
       "        vertical-align: middle;\n",
       "    }\n",
       "\n",
       "    .dataframe tbody tr th {\n",
       "        vertical-align: top;\n",
       "    }\n",
       "\n",
       "    .dataframe thead th {\n",
       "        text-align: right;\n",
       "    }\n",
       "</style>\n",
       "<table border=\"1\" class=\"dataframe\">\n",
       "  <thead>\n",
       "    <tr style=\"text-align: right;\">\n",
       "      <th></th>\n",
       "      <th>category</th>\n",
       "      <th>value</th>\n",
       "    </tr>\n",
       "  </thead>\n",
       "  <tbody>\n",
       "    <tr>\n",
       "      <th>0</th>\n",
       "      <td>E</td>\n",
       "      <td>41558</td>\n",
       "    </tr>\n",
       "    <tr>\n",
       "      <th>1</th>\n",
       "      <td>C</td>\n",
       "      <td>39226</td>\n",
       "    </tr>\n",
       "    <tr>\n",
       "      <th>2</th>\n",
       "      <td>C</td>\n",
       "      <td>14670</td>\n",
       "    </tr>\n",
       "    <tr>\n",
       "      <th>3</th>\n",
       "      <td>C</td>\n",
       "      <td>52665</td>\n",
       "    </tr>\n",
       "    <tr>\n",
       "      <th>4</th>\n",
       "      <td>C</td>\n",
       "      <td>16175</td>\n",
       "    </tr>\n",
       "    <tr>\n",
       "      <th>...</th>\n",
       "      <td>...</td>\n",
       "      <td>...</td>\n",
       "    </tr>\n",
       "    <tr>\n",
       "      <th>995</th>\n",
       "      <td>B</td>\n",
       "      <td>86737</td>\n",
       "    </tr>\n",
       "    <tr>\n",
       "      <th>996</th>\n",
       "      <td>D</td>\n",
       "      <td>58905</td>\n",
       "    </tr>\n",
       "    <tr>\n",
       "      <th>997</th>\n",
       "      <td>B</td>\n",
       "      <td>85377</td>\n",
       "    </tr>\n",
       "    <tr>\n",
       "      <th>998</th>\n",
       "      <td>A</td>\n",
       "      <td>59268</td>\n",
       "    </tr>\n",
       "    <tr>\n",
       "      <th>999</th>\n",
       "      <td>C</td>\n",
       "      <td>66763</td>\n",
       "    </tr>\n",
       "  </tbody>\n",
       "</table>\n",
       "<p>1000 rows × 2 columns</p>\n",
       "</div>"
      ],
      "text/plain": [
       "    category  value\n",
       "0          E  41558\n",
       "1          C  39226\n",
       "2          C  14670\n",
       "3          C  52665\n",
       "4          C  16175\n",
       "..       ...    ...\n",
       "995        B  86737\n",
       "996        D  58905\n",
       "997        B  85377\n",
       "998        A  59268\n",
       "999        C  66763\n",
       "\n",
       "[1000 rows x 2 columns]"
      ]
     },
     "execution_count": 4,
     "metadata": {},
     "output_type": "execute_result"
    }
   ],
   "source": [
    "CATEGORIES = [\"A\", \"B\", \"C\", \"D\", \"E\"]\n",
    "\n",
    "dummy_dataframe = pd.DataFrame({\n",
    "    \"category\": [random.choice(CATEGORIES) for i in range(1000)],\n",
    "    \"value\": [random.randint(0, 100000) for i in range(1000)]\n",
    "})\n",
    "dummy_dataframe"
   ]
  },
  {
   "cell_type": "code",
   "execution_count": 5,
   "id": "ea140506",
   "metadata": {
    "execution": {
     "iopub.execute_input": "2024-07-23T22:41:19.776432Z",
     "iopub.status.busy": "2024-07-23T22:41:19.776337Z",
     "iopub.status.idle": "2024-07-23T22:41:19.781097Z",
     "shell.execute_reply": "2024-07-23T22:41:19.780866Z"
    },
    "papermill": {
     "duration": 0.006384,
     "end_time": "2024-07-23T22:41:19.781727",
     "exception": false,
     "start_time": "2024-07-23T22:41:19.775343",
     "status": "completed"
    },
    "tags": []
   },
   "outputs": [
    {
     "data": {
      "text/html": [
       "<div>\n",
       "<style scoped>\n",
       "    .dataframe tbody tr th:only-of-type {\n",
       "        vertical-align: middle;\n",
       "    }\n",
       "\n",
       "    .dataframe tbody tr th {\n",
       "        vertical-align: top;\n",
       "    }\n",
       "\n",
       "    .dataframe thead tr th {\n",
       "        text-align: left;\n",
       "    }\n",
       "\n",
       "    .dataframe thead tr:last-of-type th {\n",
       "        text-align: right;\n",
       "    }\n",
       "</style>\n",
       "<table border=\"1\" class=\"dataframe\">\n",
       "  <thead>\n",
       "    <tr>\n",
       "      <th></th>\n",
       "      <th colspan=\"7\" halign=\"left\">value</th>\n",
       "    </tr>\n",
       "    <tr>\n",
       "      <th></th>\n",
       "      <th>mean</th>\n",
       "      <th>median</th>\n",
       "      <th>sum</th>\n",
       "      <th>count</th>\n",
       "      <th>min</th>\n",
       "      <th>max</th>\n",
       "      <th>std</th>\n",
       "    </tr>\n",
       "    <tr>\n",
       "      <th>category</th>\n",
       "      <th></th>\n",
       "      <th></th>\n",
       "      <th></th>\n",
       "      <th></th>\n",
       "      <th></th>\n",
       "      <th></th>\n",
       "      <th></th>\n",
       "    </tr>\n",
       "  </thead>\n",
       "  <tbody>\n",
       "    <tr>\n",
       "      <th>A</th>\n",
       "      <td>53044.338889</td>\n",
       "      <td>55454.5</td>\n",
       "      <td>9547981</td>\n",
       "      <td>180</td>\n",
       "      <td>796</td>\n",
       "      <td>99740</td>\n",
       "      <td>28715.110943</td>\n",
       "    </tr>\n",
       "    <tr>\n",
       "      <th>B</th>\n",
       "      <td>47787.004695</td>\n",
       "      <td>48053.0</td>\n",
       "      <td>10178632</td>\n",
       "      <td>213</td>\n",
       "      <td>1067</td>\n",
       "      <td>99469</td>\n",
       "      <td>27396.546805</td>\n",
       "    </tr>\n",
       "    <tr>\n",
       "      <th>C</th>\n",
       "      <td>49645.940299</td>\n",
       "      <td>49771.0</td>\n",
       "      <td>9978834</td>\n",
       "      <td>201</td>\n",
       "      <td>54</td>\n",
       "      <td>99916</td>\n",
       "      <td>29146.732979</td>\n",
       "    </tr>\n",
       "    <tr>\n",
       "      <th>D</th>\n",
       "      <td>51478.259434</td>\n",
       "      <td>55241.0</td>\n",
       "      <td>10913391</td>\n",
       "      <td>212</td>\n",
       "      <td>802</td>\n",
       "      <td>99788</td>\n",
       "      <td>28830.615635</td>\n",
       "    </tr>\n",
       "    <tr>\n",
       "      <th>E</th>\n",
       "      <td>47639.056701</td>\n",
       "      <td>46225.5</td>\n",
       "      <td>9241977</td>\n",
       "      <td>194</td>\n",
       "      <td>39</td>\n",
       "      <td>99023</td>\n",
       "      <td>28417.766766</td>\n",
       "    </tr>\n",
       "  </tbody>\n",
       "</table>\n",
       "</div>"
      ],
      "text/plain": [
       "                 value                                                    \n",
       "                  mean   median       sum count   min    max           std\n",
       "category                                                                  \n",
       "A         53044.338889  55454.5   9547981   180   796  99740  28715.110943\n",
       "B         47787.004695  48053.0  10178632   213  1067  99469  27396.546805\n",
       "C         49645.940299  49771.0   9978834   201    54  99916  29146.732979\n",
       "D         51478.259434  55241.0  10913391   212   802  99788  28830.615635\n",
       "E         47639.056701  46225.5   9241977   194    39  99023  28417.766766"
      ]
     },
     "execution_count": 5,
     "metadata": {},
     "output_type": "execute_result"
    }
   ],
   "source": [
    "dummy_dataframe.groupby(\"category\").agg(AGGREGATIONS)"
   ]
  }
 ],
 "metadata": {
  "kernelspec": {
   "display_name": "chidb-rGXX_8jO-py3.12",
   "language": "python",
   "name": "python3"
  },
  "language_info": {
   "codemirror_mode": {
    "name": "ipython",
    "version": 3
   },
   "file_extension": ".py",
   "mimetype": "text/x-python",
   "name": "python",
   "nbconvert_exporter": "python",
   "pygments_lexer": "ipython3",
   "version": "3.12.4"
  },
  "papermill": {
   "default_parameters": {},
   "duration": 1.074383,
   "end_time": "2024-07-23T22:41:19.898174",
   "environment_variables": {},
   "exception": null,
   "input_path": "notebooks/complex_papermill_example.ipynb",
   "output_path": "notebooks/papermill_runs/complex_example.ipynb",
   "parameters": {
    "AGGREGATIONS": [
     "mean",
     "median",
     "sum",
     "count",
     "min",
     "max",
     "std"
    ]
   },
   "start_time": "2024-07-23T22:41:18.823791",
   "version": "2.6.0"
  }
 },
 "nbformat": 4,
 "nbformat_minor": 5
}