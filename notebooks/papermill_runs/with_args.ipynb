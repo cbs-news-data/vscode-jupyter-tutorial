{
 "cells": [
  {
   "cell_type": "markdown",
   "id": "2d5dcae5",
   "metadata": {
    "papermill": {
     "duration": 0.004447,
     "end_time": "2024-07-23T22:23:19.918756",
     "exception": false,
     "start_time": "2024-07-23T22:23:19.914309",
     "status": "completed"
    },
    "tags": []
   },
   "source": [
    "# Parameterizing a Jupyter Notebook using Papermill"
   ]
  },
  {
   "cell_type": "markdown",
   "id": "0223b2d2",
   "metadata": {
    "papermill": {
     "duration": 0.002143,
     "end_time": "2024-07-23T22:23:19.924154",
     "exception": false,
     "start_time": "2024-07-23T22:23:19.922011",
     "status": "completed"
    },
    "tags": []
   },
   "source": [
    "To parameterize a Jupyter Notebook, we can use the `papermill` library. This library allows us to pass parameters to a notebook and execute it. This is useful when we want to run the same notebook with different parameters."
   ]
  },
  {
   "cell_type": "code",
   "execution_count": 1,
   "id": "4afc35a8",
   "metadata": {
    "execution": {
     "iopub.execute_input": "2024-07-23T22:23:19.930457Z",
     "iopub.status.busy": "2024-07-23T22:23:19.930015Z",
     "iopub.status.idle": "2024-07-23T22:23:19.935703Z",
     "shell.execute_reply": "2024-07-23T22:23:19.935237Z"
    },
    "papermill": {
     "duration": 0.010932,
     "end_time": "2024-07-23T22:23:19.937199",
     "exception": false,
     "start_time": "2024-07-23T22:23:19.926267",
     "status": "completed"
    },
    "tags": [
     "parameters"
    ]
   },
   "outputs": [],
   "source": [
    "NAME = \"Hacker\""
   ]
  },
  {
   "cell_type": "code",
   "execution_count": 2,
   "id": "a3951593",
   "metadata": {
    "execution": {
     "iopub.execute_input": "2024-07-23T22:23:19.940419Z",
     "iopub.status.busy": "2024-07-23T22:23:19.940247Z",
     "iopub.status.idle": "2024-07-23T22:23:19.941992Z",
     "shell.execute_reply": "2024-07-23T22:23:19.941759Z"
    },
    "papermill": {
     "duration": 0.004423,
     "end_time": "2024-07-23T22:23:19.942938",
     "exception": false,
     "start_time": "2024-07-23T22:23:19.938515",
     "status": "completed"
    },
    "tags": [
     "injected-parameters"
    ]
   },
   "outputs": [],
   "source": [
    "# Parameters\n",
    "NAME = \"Chris\"\n"
   ]
  },
  {
   "cell_type": "code",
   "execution_count": 3,
   "id": "cdaa6b32",
   "metadata": {
    "execution": {
     "iopub.execute_input": "2024-07-23T22:23:19.945534Z",
     "iopub.status.busy": "2024-07-23T22:23:19.945365Z",
     "iopub.status.idle": "2024-07-23T22:23:19.947652Z",
     "shell.execute_reply": "2024-07-23T22:23:19.947377Z"
    },
    "papermill": {
     "duration": 0.00463,
     "end_time": "2024-07-23T22:23:19.948606",
     "exception": false,
     "start_time": "2024-07-23T22:23:19.943976",
     "status": "completed"
    },
    "tags": []
   },
   "outputs": [
    {
     "name": "stdout",
     "output_type": "stream",
     "text": [
      "Hello, Chris!\n"
     ]
    }
   ],
   "source": [
    "print(f\"Hello, {NAME}!\")"
   ]
  }
 ],
 "metadata": {
  "kernelspec": {
   "display_name": "chidb-rGXX_8jO-py3.12",
   "language": "python",
   "name": "python3"
  },
  "language_info": {
   "codemirror_mode": {
    "name": "ipython",
    "version": 3
   },
   "file_extension": ".py",
   "mimetype": "text/x-python",
   "name": "python",
   "nbconvert_exporter": "python",
   "pygments_lexer": "ipython3",
   "version": "3.12.4"
  },
  "papermill": {
   "default_parameters": {},
   "duration": 0.73337,
   "end_time": "2024-07-23T22:23:20.065627",
   "environment_variables": {},
   "exception": null,
   "input_path": "notebooks/papermill_example.ipynb",
   "output_path": "notebooks/papermill_runs/with_args.ipynb",
   "parameters": {
    "NAME": "Chris"
   },
   "start_time": "2024-07-23T22:23:19.332257",
   "version": "2.6.0"
  }
 },
 "nbformat": 4,
 "nbformat_minor": 5
}