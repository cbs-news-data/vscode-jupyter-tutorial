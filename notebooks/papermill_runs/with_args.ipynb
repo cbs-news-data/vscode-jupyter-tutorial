{
 "cells": [
  {
   "cell_type": "markdown",
   "id": "dd705ccd",
   "metadata": {
    "papermill": {
     "duration": 0.001289,
     "end_time": "2024-07-23T22:41:18.398486",
     "exception": false,
     "start_time": "2024-07-23T22:41:18.397197",
     "status": "completed"
    },
    "tags": []
   },
   "source": [
    "# Parameterizing a Jupyter Notebook using Papermill"
   ]
  },
  {
   "cell_type": "markdown",
   "id": "e245ecd9",
   "metadata": {
    "papermill": {
     "duration": 0.000446,
     "end_time": "2024-07-23T22:41:18.399593",
     "exception": false,
     "start_time": "2024-07-23T22:41:18.399147",
     "status": "completed"
    },
    "tags": []
   },
   "source": [
    "To parameterize a Jupyter Notebook, we can use the `papermill` library. This library allows us to pass parameters to a notebook and execute it. This is useful when we want to run the same notebook with different parameters."
   ]
  },
  {
   "cell_type": "code",
   "execution_count": 1,
   "id": "e4559d2a",
   "metadata": {
    "execution": {
     "iopub.execute_input": "2024-07-23T22:41:18.401288Z",
     "iopub.status.busy": "2024-07-23T22:41:18.401136Z",
     "iopub.status.idle": "2024-07-23T22:41:18.404225Z",
     "shell.execute_reply": "2024-07-23T22:41:18.403960Z"
    },
    "papermill": {
     "duration": 0.005052,
     "end_time": "2024-07-23T22:41:18.405066",
     "exception": false,
     "start_time": "2024-07-23T22:41:18.400014",
     "status": "completed"
    },
    "tags": [
     "parameters"
    ]
   },
   "outputs": [],
   "source": [
    "NAME = \"Hacker\""
   ]
  },
  {
   "cell_type": "code",
   "execution_count": 2,
   "id": "bbc6cc4a",
   "metadata": {
    "execution": {
     "iopub.execute_input": "2024-07-23T22:41:18.406788Z",
     "iopub.status.busy": "2024-07-23T22:41:18.406704Z",
     "iopub.status.idle": "2024-07-23T22:41:18.408289Z",
     "shell.execute_reply": "2024-07-23T22:41:18.408009Z"
    },
    "papermill": {
     "duration": 0.003145,
     "end_time": "2024-07-23T22:41:18.408988",
     "exception": false,
     "start_time": "2024-07-23T22:41:18.405843",
     "status": "completed"
    },
    "tags": [
     "injected-parameters"
    ]
   },
   "outputs": [],
   "source": [
    "# Parameters\n",
    "NAME = \"Chris\"\n"
   ]
  },
  {
   "cell_type": "code",
   "execution_count": 3,
   "id": "af48a90d",
   "metadata": {
    "execution": {
     "iopub.execute_input": "2024-07-23T22:41:18.411427Z",
     "iopub.status.busy": "2024-07-23T22:41:18.411262Z",
     "iopub.status.idle": "2024-07-23T22:41:18.413105Z",
     "shell.execute_reply": "2024-07-23T22:41:18.412916Z"
    },
    "papermill": {
     "duration": 0.003975,
     "end_time": "2024-07-23T22:41:18.413732",
     "exception": false,
     "start_time": "2024-07-23T22:41:18.409757",
     "status": "completed"
    },
    "tags": []
   },
   "outputs": [
    {
     "name": "stdout",
     "output_type": "stream",
     "text": [
      "Hello, Chris!\n"
     ]
    }
   ],
   "source": [
    "print(f\"Hello, {NAME}!\")"
   ]
  }
 ],
 "metadata": {
  "kernelspec": {
   "display_name": "chidb-rGXX_8jO-py3.12",
   "language": "python",
   "name": "python3"
  },
  "language_info": {
   "codemirror_mode": {
    "name": "ipython",
    "version": 3
   },
   "file_extension": ".py",
   "mimetype": "text/x-python",
   "name": "python",
   "nbconvert_exporter": "python",
   "pygments_lexer": "ipython3",
   "version": "3.12.4"
  },
  "papermill": {
   "default_parameters": {},
   "duration": 0.92018,
   "end_time": "2024-07-23T22:41:18.529634",
   "environment_variables": {},
   "exception": null,
   "input_path": "notebooks/papermill_example.ipynb",
   "output_path": "notebooks/papermill_runs/with_args.ipynb",
   "parameters": {
    "NAME": "Chris"
   },
   "start_time": "2024-07-23T22:41:17.609454",
   "version": "2.6.0"
  }
 },
 "nbformat": 4,
 "nbformat_minor": 5
}