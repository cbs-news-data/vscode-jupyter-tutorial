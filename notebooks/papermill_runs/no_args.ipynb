{
 "cells": [
  {
   "cell_type": "markdown",
   "id": "f22057f6",
   "metadata": {
    "papermill": {
     "duration": 0.001602,
     "end_time": "2024-07-23T22:41:17.159491",
     "exception": false,
     "start_time": "2024-07-23T22:41:17.157889",
     "status": "completed"
    },
    "tags": []
   },
   "source": [
    "# Parameterizing a Jupyter Notebook using Papermill"
   ]
  },
  {
   "cell_type": "markdown",
   "id": "3b5e2e8e",
   "metadata": {
    "papermill": {
     "duration": 0.000476,
     "end_time": "2024-07-23T22:41:17.160810",
     "exception": false,
     "start_time": "2024-07-23T22:41:17.160334",
     "status": "completed"
    },
    "tags": []
   },
   "source": [
    "To parameterize a Jupyter Notebook, we can use the `papermill` library. This library allows us to pass parameters to a notebook and execute it. This is useful when we want to run the same notebook with different parameters."
   ]
  },
  {
   "cell_type": "code",
   "execution_count": 1,
   "id": "9f7df924",
   "metadata": {
    "execution": {
     "iopub.execute_input": "2024-07-23T22:41:17.163967Z",
     "iopub.status.busy": "2024-07-23T22:41:17.163712Z",
     "iopub.status.idle": "2024-07-23T22:41:17.167908Z",
     "shell.execute_reply": "2024-07-23T22:41:17.167162Z"
    },
    "papermill": {
     "duration": 0.016532,
     "end_time": "2024-07-23T22:41:17.178407",
     "exception": false,
     "start_time": "2024-07-23T22:41:17.161875",
     "status": "completed"
    },
    "tags": [
     "parameters"
    ]
   },
   "outputs": [],
   "source": [
    "NAME = \"Hacker\""
   ]
  },
  {
   "cell_type": "code",
   "execution_count": 2,
   "id": "1bafc21e",
   "metadata": {
    "execution": {
     "iopub.execute_input": "2024-07-23T22:41:17.182979Z",
     "iopub.status.busy": "2024-07-23T22:41:17.182400Z",
     "iopub.status.idle": "2024-07-23T22:41:17.188183Z",
     "shell.execute_reply": "2024-07-23T22:41:17.185825Z"
    },
    "papermill": {
     "duration": 0.013077,
     "end_time": "2024-07-23T22:41:17.192179",
     "exception": false,
     "start_time": "2024-07-23T22:41:17.179102",
     "status": "completed"
    },
    "tags": []
   },
   "outputs": [
    {
     "name": "stdout",
     "output_type": "stream",
     "text": [
      "Hello, Hacker!\n"
     ]
    }
   ],
   "source": [
    "print(f\"Hello, {NAME}!\")"
   ]
  }
 ],
 "metadata": {
  "kernelspec": {
   "display_name": "chidb-rGXX_8jO-py3.12",
   "language": "python",
   "name": "python3"
  },
  "language_info": {
   "codemirror_mode": {
    "name": "ipython",
    "version": 3
   },
   "file_extension": ".py",
   "mimetype": "text/x-python",
   "name": "python",
   "nbconvert_exporter": "python",
   "pygments_lexer": "ipython3",
   "version": "3.12.4"
  },
  "papermill": {
   "default_parameters": {},
   "duration": 0.962499,
   "end_time": "2024-07-23T22:41:17.313859",
   "environment_variables": {},
   "exception": null,
   "input_path": "notebooks/papermill_example.ipynb",
   "output_path": "notebooks/papermill_runs/no_args.ipynb",
   "parameters": {},
   "start_time": "2024-07-23T22:41:16.351360",
   "version": "2.6.0"
  }
 },
 "nbformat": 4,
 "nbformat_minor": 5
}