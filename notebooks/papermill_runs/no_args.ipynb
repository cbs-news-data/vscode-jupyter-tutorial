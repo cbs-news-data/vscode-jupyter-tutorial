{
 "cells": [
  {
   "cell_type": "markdown",
   "id": "f0299790",
   "metadata": {
    "papermill": {
     "duration": 0.002002,
     "end_time": "2024-07-23T22:23:18.920474",
     "exception": false,
     "start_time": "2024-07-23T22:23:18.918472",
     "status": "completed"
    },
    "tags": []
   },
   "source": [
    "# Parameterizing a Jupyter Notebook using Papermill"
   ]
  },
  {
   "cell_type": "markdown",
   "id": "6ffacfc6",
   "metadata": {
    "papermill": {
     "duration": 0.000789,
     "end_time": "2024-07-23T22:23:18.922410",
     "exception": false,
     "start_time": "2024-07-23T22:23:18.921621",
     "status": "completed"
    },
    "tags": []
   },
   "source": [
    "To parameterize a Jupyter Notebook, we can use the `papermill` library. This library allows us to pass parameters to a notebook and execute it. This is useful when we want to run the same notebook with different parameters."
   ]
  },
  {
   "cell_type": "code",
   "execution_count": 1,
   "id": "f22c1f6d",
   "metadata": {
    "execution": {
     "iopub.execute_input": "2024-07-23T22:23:18.924792Z",
     "iopub.status.busy": "2024-07-23T22:23:18.924545Z",
     "iopub.status.idle": "2024-07-23T22:23:18.927777Z",
     "shell.execute_reply": "2024-07-23T22:23:18.927394Z"
    },
    "papermill": {
     "duration": 0.006,
     "end_time": "2024-07-23T22:23:18.929095",
     "exception": false,
     "start_time": "2024-07-23T22:23:18.923095",
     "status": "completed"
    },
    "tags": [
     "parameters"
    ]
   },
   "outputs": [],
   "source": [
    "NAME = \"Hacker\""
   ]
  },
  {
   "cell_type": "code",
   "execution_count": 2,
   "id": "13dac136",
   "metadata": {
    "execution": {
     "iopub.execute_input": "2024-07-23T22:23:18.931674Z",
     "iopub.status.busy": "2024-07-23T22:23:18.931524Z",
     "iopub.status.idle": "2024-07-23T22:23:18.933715Z",
     "shell.execute_reply": "2024-07-23T22:23:18.933460Z"
    },
    "papermill": {
     "duration": 0.004405,
     "end_time": "2024-07-23T22:23:18.934668",
     "exception": false,
     "start_time": "2024-07-23T22:23:18.930263",
     "status": "completed"
    },
    "tags": []
   },
   "outputs": [
    {
     "name": "stdout",
     "output_type": "stream",
     "text": [
      "Hello, Hacker!\n"
     ]
    }
   ],
   "source": [
    "print(f\"Hello, {NAME}!\")"
   ]
  }
 ],
 "metadata": {
  "kernelspec": {
   "display_name": "chidb-rGXX_8jO-py3.12",
   "language": "python",
   "name": "python3"
  },
  "language_info": {
   "codemirror_mode": {
    "name": "ipython",
    "version": 3
   },
   "file_extension": ".py",
   "mimetype": "text/x-python",
   "name": "python",
   "nbconvert_exporter": "python",
   "pygments_lexer": "ipython3",
   "version": "3.12.4"
  },
  "papermill": {
   "default_parameters": {},
   "duration": 0.991447,
   "end_time": "2024-07-23T22:23:19.051372",
   "environment_variables": {},
   "exception": null,
   "input_path": "notebooks/papermill_example.ipynb",
   "output_path": "notebooks/papermill_runs/no_args.ipynb",
   "parameters": {},
   "start_time": "2024-07-23T22:23:18.059925",
   "version": "2.6.0"
  }
 },
 "nbformat": 4,
 "nbformat_minor": 5
}